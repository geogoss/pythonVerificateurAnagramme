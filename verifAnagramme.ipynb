{
 "cells": [
  {
   "cell_type": "code",
   "execution_count": 2,
   "id": "3fef2236-a856-4652-b256-c07a3fafba67",
   "metadata": {},
   "outputs": [],
   "source": [
    "def anagramme(mot1, mot2):\n",
    "    mot1 = mot1.lower()\n",
    "    mot2 = mot2.lower()\n",
    "    return sorted(mot1) == sorted(mot2)"
   ]
  },
  {
   "cell_type": "code",
   "execution_count": 3,
   "id": "a5f7602c-9217-4e35-a7f2-063ec82a3160",
   "metadata": {},
   "outputs": [
    {
     "name": "stdout",
     "output_type": "stream",
     "text": [
      "True\n"
     ]
    }
   ],
   "source": [
    "print(anagramme(\"cinema\", \"eminca\"))"
   ]
  },
  {
   "cell_type": "code",
   "execution_count": 4,
   "id": "bb89b54a-2016-4a8e-a449-57558f8576ef",
   "metadata": {},
   "outputs": [
    {
     "name": "stdout",
     "output_type": "stream",
     "text": [
      "False\n"
     ]
    }
   ],
   "source": [
    "print(anagramme(\"top\", \"col\"))"
   ]
  },
  {
   "cell_type": "code",
   "execution_count": 5,
   "id": "a10a87ce-3a77-4e3f-b675-987b354eded3",
   "metadata": {},
   "outputs": [
    {
     "name": "stdout",
     "output_type": "stream",
     "text": [
      "True\n"
     ]
    }
   ],
   "source": [
    "print(anagramme(\"chemin\", \"minche\"))"
   ]
  },
  {
   "cell_type": "code",
   "execution_count": 6,
   "id": "4f1b5cf7-5900-41cd-a489-373d4633c495",
   "metadata": {},
   "outputs": [
    {
     "name": "stdout",
     "output_type": "stream",
     "text": [
      "True\n"
     ]
    }
   ],
   "source": [
    "print(anagramme(\"noire\", \"renoi\"))"
   ]
  },
  {
   "cell_type": "code",
   "execution_count": null,
   "id": "444389e1-b573-403d-8991-99e202adcf84",
   "metadata": {},
   "outputs": [],
   "source": []
  }
 ],
 "metadata": {
  "kernelspec": {
   "display_name": "Python 3 (ipykernel)",
   "language": "python",
   "name": "python3"
  },
  "language_info": {
   "codemirror_mode": {
    "name": "ipython",
    "version": 3
   },
   "file_extension": ".py",
   "mimetype": "text/x-python",
   "name": "python",
   "nbconvert_exporter": "python",
   "pygments_lexer": "ipython3",
   "version": "3.9.7"
  }
 },
 "nbformat": 4,
 "nbformat_minor": 5
}
